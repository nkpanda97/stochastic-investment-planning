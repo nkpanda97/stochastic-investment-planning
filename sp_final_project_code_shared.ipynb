{
 "cells": [
  {
   "cell_type": "markdown",
   "id": "f1da48b6",
   "metadata": {},
   "source": [
    "<img alt=\"logo_lnmb.jpeg\" src=\"logo_lnmb.jpeg\"/>\n",
    "<center> \n",
    "    <h1>STOCHASTIC PROGRAMMING</h1>\n",
    "    <h3>LNMB Ph.D. Course : 2021-2022</h2>\n",
    "    <h2> Project Report</h2><br> <br>\n",
    "\n",
    "    \n",
    "</center>\n",
    "    <em>Submitted by:</em> Nanda Kishor Panda (<a href=\"n.k.panda@tudelft.nl\">n.k.panda@tudelft.nl</a>), Neda Vahabzad (<a href=\"n.vahabzad@tudelft.nl\">n.vahabzad@tudelft.nl</a>)"
   ]
  },
  {
   "cell_type": "markdown",
   "id": "0ed4895c",
   "metadata": {},
   "source": [
    "<span style=\"color:red;font-weight:400;font-size:20px\">\n",
    "Importing necessary libraries\n",
    "</span>"
   ]
  },
  {
   "cell_type": "code",
   "execution_count": 1,
   "id": "e68a2b4b-64c7-4f8b-8dc9-8f47b2bdcd24",
   "metadata": {},
   "outputs": [
    {
     "name": "stdout",
     "output_type": "stream",
     "text": [
      "[    0.00] Initializing mpi-sppy\n"
     ]
    }
   ],
   "source": [
    "import numpy as np\n",
    "from pyomo.environ import *\n",
    "import matplotlib.pyplot as plt\n",
    "from mpl_toolkits import mplot3d\n",
    "# from pysp import *\n",
    "from helper_functions import *\n",
    "from tabulate import tabulate\n",
    "import mpisppy.utils.sputils as sputils\n",
    "import pandas as pd\n",
    "from  itertools import product\n",
    "from mpisppy.opt.lshaped import LShapedMethod\n",
    "from numpy.random import default_rng\n",
    "from tqdm import tqdm\n",
    "import warnings\n",
    "warnings.filterwarnings('ignore')\n",
    "import sys, os\n",
    "\n",
    "# https://mpi-sppy.readthedocs.io/en/latest/examples.html"
   ]
  },
  {
   "cell_type": "markdown",
   "id": "bf737cad",
   "metadata": {},
   "source": [
    "\n",
    "<span style=\"color:blue;font-weight:800;font-size:30px\">\n",
    "Single discrete random parameter: $\\xi_{1,2,3}$</span>\n",
    "\n",
    "## Deterministic model formulation (MOD1)<br>\n",
    "<center>$\n",
    "\\min_{x\\geq0}{\\left\\{\\underbrace{\\sum_{i=1}^nc_ix_i}_{\\text{investment cost}}+\\underbrace{\\sum_{i=1}^n\\sum_{j=1}^kq_iT_jy_{ij}}_{\\text{operating cost}}\\right\\}}$</center><br>\n",
    "<ul><ul><ul><ul><em>subject to:</em><br></ul></ul></ul></ul>\n",
    "<center>\n",
    "$\n",
    "\\begin{align}\n",
    "&\\sum_{i=1}^n x_i\\geq \\sum_{j=1}^k \\xi_j^{max}\\\\\n",
    "&\\sum_{i=1}^nc_ix_i\\leq c_{max}\\\\\n",
    "&\\sum_{j=1}^ky_{ij}\\leq x_i\\quad \\quad i=\\{1,\\cdots,n\\}\\\\\n",
    "&\\sum_{i=1}^ny_{ij}\\geq \\xi_j \\quad \\quad j=\\{1,\\cdots,k\\}\n",
    "\\end{align}\n",
    "$\n",
    "</center>"
   ]
  },
  {
   "cell_type": "markdown",
   "id": "74fbc13d",
   "metadata": {},
   "source": [
    "## Expected value (EV) solution (MOD1)\n",
    "For expected value solution, the expectation of each random parameters is used as input to the deterministic model as shown below:<br>\n",
    "\n",
    "Solve MOD1 with:<br>\n",
    "<ul> <ul> <ul> <ul> $\n",
    "\\begin{align}\n",
    "&\\xi_j = \\bar{\\xi_j}&&\\quad\\quad \\forall \\: j={1,2,3}\\\\\n",
    "\\text{where;}\\\\\n",
    "&\\bar{\\xi_j}=\\mathbb{E}[\\xi_j]=\\sum_{l=1}^3\\xi_j^{(l)}\\mathcal{P}(\\xi_j^{(l)}) &&\\quad\\quad\\forall \\: j={1,2,3}\n",
    "\\end{align}\n",
    "$</ul> </ul> </ul> </ul><br><br>\n",
    "Expected Value (EV):\n",
    "<ul> <ul> <ul> <ul>\n",
    "$\n",
    "EV:=\\min_{x\\geq0}\\left(g(E[\\xi], x)\\right)=g(\\bar{\\xi}, \\bar{x})\\\\\n",
    "\\bar{x}\\text{ is the optimal solution of MOD1 by using }\\xi = \\bar{\\xi}\n",
    "$</ul> </ul> </ul> </ul>"
   ]
  },
  {
   "cell_type": "markdown",
   "id": "2cda2a34",
   "metadata": {},
   "source": [
    "## Expected value of using the EV solution (EEV) (MOD1.1)\n",
    "The expected value of using the EV solution can be calculated using the following equation:<br>\n",
    "\n",
    "\\begin{align}\n",
    "EEV:= \\mathbb{E}_{\\xi}\\left[g(\\bar{x}, \\xi)\\right]\n",
    "\\end{align}\n",
    "EEV can be exactly calculated for m random discrete variables at d values each by solving $d^n$ linear programs. The EEV is calculated using sample mean approximation as follows:<br>\n",
    "\n",
    "- For $i = 1,...,L$ where $L=d^m$ and for this particular problem $d=m=3$:\n",
    "    - Sample $\\xi_i$ from the discrete realizations<br>\n",
    "    - Compute the optimal value of $x_i$ for $\\bar{\\xi}$: $\\bar{x}_i$<br>\n",
    "    - $EEV_l = \\sum_{i=1}^n c_i\\bar{x}_i+Q(\\bar{x}, \\xi^{(l)})$ where, $l$ is the $l^{th}$ scenario. Here $l={1,2,...,27}$\n",
    "    - Finally, $EEV = \\frac{1}{L}\\sum_{l=1}^LEEV_l$\n",
    "    - $Q(\\bar{x}, \\xi^{(l)})$ can be written as a linear program as follows:\n",
    "\\begin{align}\n",
    "    \\min_{y\\geq0}\\left\\{\\sum_{i=1}^n \\sum_{j=1}^kq_iT_jy_{ij}\\right\\}\n",
    "\\end{align}\n",
    "\n",
    "\\begin{align}\n",
    "\\text{Subject to:}&\\\\\n",
    "&\\sum_{j=1}^ky_{ij}\\leq \\bar{x}_i\\quad \\quad i=\\{1,\\cdots,n\\}\\\\\n",
    "&\\sum_{i=1}^ny_{ij}\\geq \\xi_j^{(l)} \\quad \\quad j=\\{1,\\cdots,k\\}\n",
    "\\end{align}"
   ]
  },
  {
   "cell_type": "markdown",
   "id": "aa54bff6",
   "metadata": {},
   "source": [
    "## Wait-and-See problem\n",
    "The wait-and-see problem is formulated by solving MOD1 for all possible realizations of $\\xi_j$. As $\\xi_j$ is discrete and mutually independent there are a total of 27 realizations.<br>\n",
    "The mean value of wait-and-see solution is denoted by WS and can be formulated as:<br><br>\n",
    "<center>\n",
    "$\n",
    "WS:=\\mathbb{E}_{\\xi}\\left[min_{x\\geq0}\\:g(\\xi, x)\\right]=\\mathbb{E}_{\\xi}\\left[g(\\xi,\\hat{x}(\\xi))\\right]\n",
    "$</center>\n"
   ]
  },
  {
   "cell_type": "markdown",
   "id": "d82fc864",
   "metadata": {},
   "source": [
    "## Stochastic recourse model\n",
    "The stochastic 2-stage model can be formulated by chainging the objective function of the deterministic model (MOD1) and adding random parameter $\\xi_j$ as follows:\n",
    "<center>$\n",
    "\\min_{x\\geq0}{\\underbrace{\\left\\{\\sum_{i=1}^nc_ix_i+\\underbrace{\\mathbb{E}_{\\xi}\\left[\\min_{y\\geq0}\\left\\{\\sum_{i=1}^n \\sum_{j=1}^kq_iT_jy_{ij}\\right\\}\\right]}_{\\text{second stage}}\\right\\}}_{\\text{first stage}}}$</center><br>\n",
    "<ul><ul><ul><ul><em>subject to:</em><br></ul></ul></ul></ul>\n",
    "<center>\n",
    "    <center>\n",
    "$\n",
    "\\begin{align}\n",
    "\\text{first stage constraints:}&\\\\\n",
    "&\\sum_{i=1}^n x_i\\geq \\sum_{j=1}^k \\xi_j^{max}\\\\\n",
    "&\\sum_{i=1}^nc_ix_i\\leq c_{max}\\\\\n",
    "\\text{second stage constraints:}&\\\\\n",
    "&\\sum_{j=1}^ky_{ij}\\leq x_i\\quad \\quad i=\\{1,\\cdots,n\\}\\\\\n",
    "&\\sum_{i=1}^ny_{ij}\\geq \\xi_j\\quad \\quad j=\\{1,\\cdots,k\\}\n",
    "\\end{align}\n",
    "$\n",
    "</center><br>\n",
    "    "
   ]
  },
  {
   "cell_type": "markdown",
   "id": "a00f1b95",
   "metadata": {},
   "source": [
    "<span style=\"color:red;font-weight:400;font-size:30px\">\n",
    "Answers for Q(a)\n",
    "</span>"
   ]
  },
  {
   "cell_type": "markdown",
   "id": "daa6df4c",
   "metadata": {},
   "source": [
    "<span style=\"color:red;font-weight:400;font-size:20px\">\n",
    "Calculation of EV and $\\bar{x}$\n",
    "</span>"
   ]
  },
  {
   "cell_type": "code",
   "execution_count": 2,
   "id": "614949a3-10af-437d-a224-677c72cd9215",
   "metadata": {},
   "outputs": [
    {
     "name": "stdout",
     "output_type": "stream",
     "text": [
      "+--------------+------------------------+--------------------+------------+------------+\n",
      "| Technologies | Installed Capacity (x̄) |     Usage (T1)     | Usage (T2) | Usage (T3) |\n",
      "+--------------+------------------------+--------------------+------------+------------+\n",
      "| Technology-1 |   2.8333333333333335   | 2.8333333333333335 |    0.0     |    0.0     |\n",
      "| Technology-2 |          3.0           |        0.0         |    3.0     |    0.0     |\n",
      "| Technology-3 |   2.1666666666666665   | 2.1666666666666665 |    0.0     |    0.0     |\n",
      "| Technology-4 |          6.0           |        0.0         |    0.0     |    2.0     |\n",
      "+--------------+------------------------+--------------------+------------+------------+\n",
      "Total investment cost     = 120.0\n",
      "Total operation cost = 274.6666666666667\n",
      "Total objective cost (EV) = 394.6666666666667\n"
     ]
    }
   ],
   "source": [
    "mean_values_xi = [5,3,2]\n",
    "demand_max = [7,4,3]  # Based on maximum values of each mode\n",
    "expected_value_model_qa = create_model_qa(capacity_per_mode=mean_values_xi, capacity_max = demand_max ) \n",
    "SolverFactory('gurobi').solve(expected_value_model_qa)\n",
    "print_res(expected_value_model_qa, question='qa')\n",
    "xbar_qa = [expected_value_model_qa.x[n].value for n in expected_value_model_qa.n]"
   ]
  },
  {
   "cell_type": "markdown",
   "id": "122c26bc",
   "metadata": {},
   "source": [
    "<span style=\"color:red;font-weight:400;font-size:20px\">\n",
    "Discrete sampling for: $\\xi_{i=\\{1,2,3\\}}$\n",
    "</span>"
   ]
  },
  {
   "cell_type": "code",
   "execution_count": 3,
   "id": "e5cf763c",
   "metadata": {},
   "outputs": [
    {
     "data": {
      "text/plain": "<Figure size 1080x576 with 1 Axes>",
      "image/png": "[encoded data removed]"
     },
     "metadata": {
      "needs_background": "light"
     },
     "output_type": "display_data"
    }
   ],
   "source": [
    "scenario_names_qa, scenarios_qa, scenarios_qa_prob = generate_scenario_qa() \n",
    "# Generate scenario along with their probability"
   ]
  },
  {
   "cell_type": "markdown",
   "id": "ea984140",
   "metadata": {},
   "source": [
    "<span style=\"color:red;font-weight:400;font-size:20px\">\n",
    "Calculation of EEV Q(a)\n",
    "</span>"
   ]
  },
  {
   "cell_type": "code",
   "execution_count": 4,
   "id": "f921f4d2",
   "metadata": {},
   "outputs": [
    {
     "name": "stdout",
     "output_type": "stream",
     "text": [
      "+-------------+------------+\n",
      "| Scenarios   |   EEV_l_qa |\n",
      "|-------------+------------|\n",
      "| scenario-1  |    275.167 |\n",
      "| scenario-2  |    279.667 |\n",
      "| scenario-3  |    284.167 |\n",
      "| scenario-4  |    302.167 |\n",
      "| scenario-5  |    306.667 |\n",
      "| scenario-6  |    312.167 |\n",
      "| scenario-7  |    329.167 |\n",
      "| scenario-8  |    334.667 |\n",
      "| scenario-9  |    340.167 |\n",
      "| scenario-10 |    361.167 |\n",
      "| scenario-11 |    366.667 |\n",
      "| scenario-12 |    372.167 |\n",
      "| scenario-13 |    389.167 |\n",
      "| scenario-14 |    394.667 |\n",
      "| scenario-15 |    400.167 |\n",
      "| scenario-16 |    422.167 |\n",
      "| scenario-17 |    427.667 |\n",
      "| scenario-18 |    433.167 |\n",
      "| scenario-19 |    458.167 |\n",
      "| scenario-20 |    463.667 |\n",
      "| scenario-21 |    469.167 |\n",
      "| scenario-22 |    491.167 |\n",
      "| scenario-23 |    496.667 |\n",
      "| scenario-24 |    502.167 |\n",
      "| scenario-25 |    524.167 |\n",
      "| scenario-26 |    529.667 |\n",
      "| scenario-27 |    535.167 |\n",
      "+-------------+------------+\n",
      "EEV = 400.04\n"
     ]
    }
   ],
   "source": [
    "EEV_l_qa = []  # Making a empty list\n",
    "\n",
    "for s in scenarios_qa.iterrows():\n",
    "    model_eev_qa = create_eev_model_qa(x_bar=xbar_qa, capacity_per_mode=\n",
    "                                       [s[1][0], s[1][1], s[1][2]], capacity_max =demand_max)\n",
    "    SolverFactory('gurobi').solve(model_eev_qa)\n",
    "    EEV_l_qa.append(sum(np.array([10, 7 , 16, 6])*np.array(xbar_qa))+ value(model_eev_qa.obj))\n",
    "\n",
    "EEV_df_qa = pd.DataFrame(index=scenarios_qa.index, data={'EEV_l_qa':EEV_l_qa})\n",
    "print(tabulate(EEV_df_qa, headers=['Scenarios', 'EEV_l_qa'], tablefmt='psql'))\n",
    "print('EEV = %.2f'%np.mean(EEV_l_qa))"
   ]
  },
  {
   "cell_type": "markdown",
   "id": "ebe0e9a9",
   "metadata": {},
   "source": [
    "<span style=\"color:red;font-weight:400;font-size:20px\">\n",
    "Calculation of Wait and See solution\n",
    "</span>"
   ]
  },
  {
   "cell_type": "code",
   "execution_count": 5,
   "id": "a37b2499",
   "metadata": {},
   "outputs": [
    {
     "name": "stdout",
     "output_type": "stream",
     "text": [
      "      Scenarios  Technology-1  Technology-2  Technology-3  Technology-4  \\\n",
      "0    scenario-1      0.000000      3.000000      3.000000           8.0   \n",
      "1    scenario-2      0.000000      2.000000      3.000000           9.0   \n",
      "2    scenario-3      0.000000      2.000000      3.000000           9.0   \n",
      "3    scenario-4      1.000000      2.000000      3.000000           8.0   \n",
      "4    scenario-5      1.000000      2.000000      3.000000           8.0   \n",
      "5    scenario-6      1.000000      2.000000      3.000000           8.0   \n",
      "6    scenario-7      0.666667      3.333333      3.000000           7.0   \n",
      "7    scenario-8      0.666667      3.333333      3.000000           7.0   \n",
      "8    scenario-9      0.666667      3.333333      3.000000           7.0   \n",
      "9   scenario-10      2.666667      2.000000      2.333333           7.0   \n",
      "10  scenario-11      2.666667      2.000000      2.333333           7.0   \n",
      "11  scenario-12      2.666667      2.000000      2.333333           7.0   \n",
      "12  scenario-13      2.833333      3.000000      2.166667           6.0   \n",
      "13  scenario-14      2.833333      3.000000      2.166667           6.0   \n",
      "14  scenario-15      2.833333      3.000000      2.166667           6.0   \n",
      "15  scenario-16      3.000000      4.000000      2.000000           5.0   \n",
      "16  scenario-17      3.000000      4.000000      2.000000           5.0   \n",
      "17  scenario-18      3.000000      4.000000      2.000000           5.0   \n",
      "18  scenario-19      6.000000      2.000000      1.000000           5.0   \n",
      "19  scenario-20      6.000000      2.000000      1.000000           5.0   \n",
      "20  scenario-21      6.000000      2.000000      1.000000           5.0   \n",
      "21  scenario-22      6.166667      3.000000      0.833333           4.0   \n",
      "22  scenario-23      6.166667      3.000000      0.833333           4.0   \n",
      "23  scenario-24      6.166667      3.000000      0.833333           4.0   \n",
      "24  scenario-25      6.333333      4.000000      0.666667           3.0   \n",
      "25  scenario-26      6.333333      4.000000      0.666667           3.0   \n",
      "26  scenario-27      6.333333      4.000000      0.666667           3.0   \n",
      "\n",
      "    Total Investment  Total Operation Cost  Total objective cost  \n",
      "0              117.0            154.500000            271.500000  \n",
      "1              116.0            161.000000            277.000000  \n",
      "2              116.0            166.500000            282.500000  \n",
      "3              120.0            179.500000            299.500000  \n",
      "4              120.0            185.000000            305.000000  \n",
      "5              120.0            190.500000            310.500000  \n",
      "6              120.0            207.500000            327.500000  \n",
      "7              120.0            213.000000            333.000000  \n",
      "8              120.0            218.500000            338.500000  \n",
      "9              120.0            240.833333            360.833333  \n",
      "10             120.0            246.333333            366.333333  \n",
      "11             120.0            251.833333            371.833333  \n",
      "12             120.0            269.166667            389.166667  \n",
      "13             120.0            274.666667            394.666667  \n",
      "14             120.0            280.166667            400.166667  \n",
      "15             120.0            297.500000            417.500000  \n",
      "16             120.0            303.000000            423.000000  \n",
      "17             120.0            308.500000            428.500000  \n",
      "18             120.0            331.500000            451.500000  \n",
      "19             120.0            337.000000            457.000000  \n",
      "20             120.0            342.500000            462.500000  \n",
      "21             120.0            359.833333            479.833333  \n",
      "22             120.0            365.333333            485.333333  \n",
      "23             120.0            370.833333            490.833333  \n",
      "24             120.0            388.166667            508.166667  \n",
      "25             120.0            393.666667            513.666667  \n",
      "26             120.0            399.166667            519.166667  \n",
      "------------------------- Average value of wait and see -------------------------------\n",
      "Items                        Average Values\n",
      "-------------------------  ----------------\n",
      "Technology-1                        3.18519\n",
      "Technology-2                        2.85185\n",
      "Technology-3                        2\n",
      "Technology-4                        5.96296\n",
      "Total Investment                  119.593\n",
      "Total Operation Cost              275.407\n",
      "Total objective cost (WS)         395\n"
     ]
    }
   ],
   "source": [
    "solve_ws_qa(demandmax=demand_max,all_scenarios=scenarios_qa, create_model=create_model_qa)"
   ]
  },
  {
   "cell_type": "markdown",
   "id": "b1871cfb",
   "metadata": {},
   "source": [
    "<span style=\"color:red;font-weight:400;font-size:20px\">\n",
    "Calculation of TS using L-shaped method\n",
    "</span>"
   ]
  },
  {
   "cell_type": "code",
   "execution_count": 6,
   "id": "29344bfc-bcdf-4c52-986e-a708fe7b283f",
   "metadata": {},
   "outputs": [
    {
     "name": "stdout",
     "output_type": "stream",
     "text": [
      "[    8.67] Initializing SPBase\n",
      "Current Iteration: 1 Time Elapsed:    0.00 Current Objective: -Inf\n",
      "Current Iteration: 2 Time Elapsed:    2.51 Time Spent on Last Master:    0.11 Time Spent Generating Last Cut Set:    2.40 Current Objective: -11663940.00\n",
      "Current Iteration: 3 Time Elapsed:    4.93 Time Spent on Last Master:    0.09 Time Spent Generating Last Cut Set:    2.33 Current Objective:  284.00\n",
      "Current Iteration: 4 Time Elapsed:    7.42 Time Spent on Last Master:    0.09 Time Spent Generating Last Cut Set:    2.40 Current Objective:  359.96\n",
      "Current Iteration: 5 Time Elapsed:    9.87 Time Spent on Last Master:    0.09 Time Spent Generating Last Cut Set:    2.37 Current Objective:  384.45\n",
      "Current Iteration: 6 Time Elapsed:   12.26 Time Spent on Last Master:    0.09 Time Spent Generating Last Cut Set:    2.29 Current Objective:  397.16\n",
      "Current Iteration: 7 Time Elapsed:   14.79 Time Spent on Last Master:    0.10 Time Spent Generating Last Cut Set:    2.43 Current Objective:  397.67\n",
      "Converged in 7 iterations.\n",
      "Total Time Elapsed:   17.41 Time Spent on Last Master:    0.09 Time spent verifying second stage:    2.52 Final Objective:  397.75\n",
      "+--------------+------------------------+\n",
      "| Technologies | Installed Capacity (x̄) |\n",
      "+--------------+------------------------+\n",
      "| Technology-1 |   3.1666666666666776   |\n",
      "| Technology-2 |   5.000000000000011    |\n",
      "| Technology-3 |   1.8333333333333282   |\n",
      "| Technology-4 |   3.9999999999999822   |\n",
      "+--------------+------------------------+\n"
     ]
    }
   ],
   "source": [
    "# Input all the option parameters required for solving using Benders decomposition\n",
    "options_qa_LS = {\n",
    "    \"root_solver\": \"gurobi\",\n",
    "    \"sp_solver\": \"gurobi\",\n",
    "    \"sp_solver_options\" : {\"threads\" : 1},\n",
    "    \"valid_eta_lb\":{name: -432000 for name in scenario_names_qa},\n",
    "    \"max_iter\": 10,\n",
    "}\n",
    "\n",
    "ls_qa = LShapedMethod(options_qa_LS, \n",
    "                   scenario_names_qa, \n",
    "                   scenario_creator_qa, \n",
    "                   scenario_creator_kwargs = {'S':scenarios_qa, \n",
    "                                              'prob_df':scenarios_qa_prob}) #Ready the solver\n",
    "ls_qa.lshaped_algorithm() #Solve\n",
    "\n",
    "print_res_ts(ls_qa.root, question='qa') #Print the solution"
   ]
  },
  {
   "cell_type": "markdown",
   "source": [
    "<span style=\"color:blue;font-weight:800;font-size:30px\">\n",
    "Addition of operational uncertainity: $\\alpha_{1,2,3,4}$</span>"
   ],
   "metadata": {
    "collapsed": false,
    "pycharm": {
     "name": "#%% md\n"
    }
   }
  },
  {
   "cell_type": "markdown",
   "id": "3bcc5a34",
   "metadata": {},
   "source": [
    "## Formulation of the modified recourse model (MOD2)\n",
    "The stochastic 2-stage model can be formulated by adding the new random parameters to the previouse recourse model as follows:\n",
    "<center>$\n",
    "\\min_{x\\geq0}{\\underbrace{\\left\\{\\sum_{i=1}^nc_ix_i+\\underbrace{\\mathbb{E}_{\\xi}\\left[\\min_{y\\geq0}\\left\\{\\sum_{i=1}^n \\sum_{j=1}^kq_iT_jy_{ij}\\right\\}\\right]}_{\\text{second stage}}\\right\\}}_{\\text{first stage}}}$</center><br>\n",
    "<ul><ul><ul><ul><em>subject to:</em><br></ul></ul></ul></ul>\n",
    "</center>\n",
    " <center>\n",
    "$\n",
    "\\begin{align}\n",
    "\\text{first stage constraints:}&\\\\\n",
    "&\\sum_{i=1}^nc_ix_i\\leq c_{max}\\\\\n",
    "\\text{second stage constraints:}&\\\\\n",
    "&\\sum_{j=1}^ky_{ij}\\leq \\alpha_ix_i&&\\quad \\quad i=\\{1,\\cdots,n\\}\\\\\n",
    "&\\sum_{i=1}^ny_{ij}\\geq \\xi_j&&\\quad \\quad j=\\{1,\\cdots,k\\}\n",
    "\\end{align}\n",
    "$\n",
    "</center><br>\n",
    "It is to be noted that by the addition of a fifth virtual technology with 0 investment cost the constraint: $\\sum_{i=1}^nx_i\\geq \\sum_{j=1}^k \\xi_j^{max}$ becomes redundant as for any values of $y_{i,j}$ this constraint can always be satishfied by any value of $x_5$ as it does not affect the total investment cost."
   ]
  },
  {
   "cell_type": "markdown",
   "id": "d4a864de",
   "metadata": {},
   "source": [
    "<span style=\"color:red;font-weight:400;font-size:20px\">\n",
    "Sampling and scenario generations from continous and discrete distributions<br>\n",
    "</span>"
   ]
  },
  {
   "cell_type": "code",
   "execution_count": 7,
   "id": "2576e125",
   "metadata": {},
   "outputs": [
    {
     "data": {
      "text/plain": "<Figure size 432x288 with 4 Axes>",
      "image/png": "[encoded data removed]"
     },
     "metadata": {
      "needs_background": "light"
     },
     "output_type": "display_data"
    }
   ],
   "source": [
    "number_of_samples = 2 #Number of samples to be sampled from each of continous random parameter\n",
    "scenarios_q2, scenarios_q2_prob = generate_scenario_qb(number_of_samples, plot=True, seed=1245) \n",
    "    #Fix seed at 1225 for reproducibility"
   ]
  },
  {
   "cell_type": "markdown",
   "id": "d205cb75",
   "metadata": {},
   "source": [
    "<span style=\"color:red;font-weight:400;font-size:20px\">\n",
    "Calculation of EV and $\\bar{x}$ for Q(b)\n",
    "</span>"
   ]
  },
  {
   "cell_type": "code",
   "execution_count": 8,
   "id": "21f78a3a",
   "metadata": {},
   "outputs": [
    {
     "name": "stdout",
     "output_type": "stream",
     "text": [
      "+--------------+------------------------+------------+------------+------------+\n",
      "| Technologies | Installed Capacity (x̄) | Usage (T1) | Usage (T2) | Usage (T3) |\n",
      "+--------------+------------------------+------------+------------+------------+\n",
      "| Technology-1 |    9.67146200829363    |    5.0     |    3.0     |    0.0     |\n",
      "| Technology-2 |          0.0           |    0.0     |    0.0     |    0.0     |\n",
      "| Technology-3 |          0.0           |    0.0     |    0.0     |    0.0     |\n",
      "| Technology-4 |          0.0           |    0.0     |    0.0     |    0.0     |\n",
      "| Technology-5 |          2.0           |    0.0     |    0.0     |    2.0     |\n",
      "+--------------+------------------------+------------+------------+------------+\n",
      "Total investment cost     = 96.7146200829363\n",
      "Total operation cost = 292.0\n",
      "Total objective cost (EV) = 388.71462008293634\n"
     ]
    }
   ],
   "source": [
    "mean_values_qb = [scenarios_q2['alpha_1'].mean(), scenarios_q2['alpha_2'].mean(),\n",
    "                  scenarios_q2['alpha_3'].mean(), scenarios_q2['alpha_4'].mean(),\n",
    "                  scenarios_q2['xi_1'].mean(), scenarios_q2['xi_2'].mean(),\n",
    "                  scenarios_q2['xi_3'].mean()]\n",
    "expected_value_model_qb = create_model_qb(random_parameters=mean_values_qb) # By default all random parameters are set to 1\n",
    "SolverFactory('gurobi').solve(expected_value_model_qb)\n",
    "print_res(expected_value_model_qb, question='qb')\n",
    "xbar_qb = [expected_value_model_qb.x[n].value for n in expected_value_model_qb.n]"
   ]
  },
  {
   "cell_type": "markdown",
   "id": "a25b7a66",
   "metadata": {},
   "source": [
    "<span style=\"color:red;font-weight:400;font-size:20px\">\n",
    "Solving two stage (TS) recourse model for Q(b) using L-shaped method\n",
    "</span>"
   ]
  },
  {
   "cell_type": "code",
   "execution_count": null,
   "id": "41e5ec98",
   "metadata": {
    "pycharm": {
     "is_executing": true
    }
   },
   "outputs": [
    {
     "name": "stdout",
     "output_type": "stream",
     "text": [
      "[   28.63] Initializing SPBase\n",
      "Current Iteration: 1 Time Elapsed:    0.00 Current Objective: -Inf\n",
      "Current Iteration: 2 Time Elapsed: 1603.78 Time Spent on Last Master:    0.50 Time Spent Generating Last Cut Set: 1603.29 Current Objective: -7290000000.00\n",
      "Current Iteration: 3 Time Elapsed: 3245.63 Time Spent on Last Master:    0.73 Time Spent Generating Last Cut Set: 1641.08 Current Objective:  224.00\n",
      "Current Iteration: 4 Time Elapsed: 4857.82 Time Spent on Last Master:    1.77 Time Spent Generating Last Cut Set: 1610.37 Current Objective:  224.00\n",
      "Current Iteration: 5 Time Elapsed: 6505.50 Time Spent on Last Master:    2.70 Time Spent Generating Last Cut Set: 1644.95 Current Objective:  315.67\n",
      "Current Iteration: 6 Time Elapsed: 8010.96 Time Spent on Last Master:    2.96 Time Spent Generating Last Cut Set: 1502.45 Current Objective:  369.26\n",
      "Current Iteration: 7 Time Elapsed: 9586.56 Time Spent on Last Master:    3.94 Time Spent Generating Last Cut Set: 1571.62 Current Objective:  392.37\n"
     ]
    }
   ],
   "source": [
    "\n",
    "options_qb_LS = {\"root_solver\": \"gurobi\",\n",
    "                 \"sp_solver\": \"gurobi\",\n",
    "                 \"sp_solver_options\" : {\"threads\" : 1},\n",
    "                 \"valid_eta_lb\": {name: -432000 for name in list(scenarios_q2.index)},\n",
    "                 \"max_iter\": 15}\n",
    "ls_qb = LShapedMethod(options_qb_LS, \n",
    "                   list(scenarios_q2.index), \n",
    "                   scenario_creator_qb, \n",
    "                   scenario_creator_kwargs = {'S':scenarios_q2, 'prob_df':scenarios_q2_prob})\n",
    "result = ls_qb.lshaped_algorithm()\n",
    "print_res_ts(ls_qb.root)\n"
   ]
  },
  {
   "cell_type": "markdown",
   "id": "388631c9",
   "metadata": {},
   "source": [
    "<span style=\"color:red;font-weight:400;font-size:20px\">\n",
    "Calculation of Wait and See solution\n",
    "</span>"
   ]
  },
  {
   "cell_type": "code",
   "execution_count": null,
   "id": "6935ba96",
   "metadata": {
    "pycharm": {
     "is_executing": true
    }
   },
   "outputs": [],
   "source": [
    "solve_ws_qb(all_scenarios=scenarios_q2, create_model=create_model_qb)"
   ]
  },
  {
   "cell_type": "markdown",
   "id": "865bbbc2",
   "metadata": {},
   "source": [
    "<span style=\"color:red;font-weight:400;font-size:20px\">\n",
    "Calculation of EEV for Q (b)\n",
    "</span>"
   ]
  },
  {
   "cell_type": "markdown",
   "source": [
    "The EEV calculation for this model is tricky. By the omission of constraint on the maximum demand $\\left(\\sum_{i=1}^nx_i\\geq \\sum_{j=1}^k\\xi_j^{max}\\right)$ the EEV model returns infeasible solution for some of the scenarios where: $\\sum_{j=1}^k\\xi_j>\\sum_{j=1}^k\\bar{\\xi}_j$. Moreover, if we adjust the $\\bar{x_i}$ solution by adding extra units to the fifth virtual technology (as it has 0 investment costs) sertain instances of the EEV model still output infeasible solution due to the randomness of the operational availability, which make the maximum demand constraint again infeasible."
   ],
   "metadata": {
    "collapsed": false,
    "pycharm": {
     "name": "#%% md\n"
    }
   }
  },
  {
   "cell_type": "code",
   "execution_count": null,
   "id": "babc5839",
   "metadata": {
    "pycharm": {
     "is_executing": true
    }
   },
   "outputs": [],
   "source": [
    "import logging\n",
    "import sys\n",
    "logging.getLogger('pyomo.core').setLevel(logging.ERROR)\n",
    "EEV_l_qb = [] #operation cost minimization\n",
    "ind_qb = []\n",
    "max_demand=14\n",
    "total_xbar_qb = sum(xbar_qb)\n",
    "diff = max(0, max_demand-total_xbar_qb)\n",
    "xbar_qb_adj = np.array(xbar_qb)+[0, 0 , 0, 0, diff]\n",
    "old_stdout = sys.stdout\n",
    "for s in tqdm(scenarios_q2.iterrows()):\n",
    "    model_eev_qb = create_eev_model_qb(x_bar=xbar_qb_adj, random_parameters=[1,1,1,1, s[1][4], s[1][5], s[1][6]])\n",
    "    SolverFactory('gurobi').solve(model_eev_qb)\n",
    "    try:\n",
    "\n",
    "        sys.stdout = open(os.devnull, 'w')\n",
    "\n",
    "        EEV_l_qb.append(sum(np.array([10, 7 , 16, 6, 0])*np.array(xbar_qb))+ value(model_eev_qb.obj))\n",
    "        ind_qb.append(s[0])\n",
    "    except:\n",
    "         pass\n",
    "\n",
    "sys.stdout = old_stdout\n",
    "EEV_df = pd.DataFrame(index=ind_qb, data={'EEV_l':EEV_l_qb})\n",
    "print(tabulate(EEV_df, headers=['Scenarios', 'EEV_l'], tablefmt='psql'))\n",
    "print('EEV = %.2f'%np.mean(EEV_l_qb))"
   ]
  },
  {
   "cell_type": "markdown",
   "id": "ff30dbc1",
   "metadata": {},
   "source": [
    "<span style=\"color:blue;font-weight:800;font-size:30px\">\n",
    "Addition of random parameter in mode duration for $T_{i=\\{2,3\\}}$</span>\n",
    "\n",
    "## Formulation of the modified recourse model (MOD3)\n",
    "The stochastic 2-stage model can be formulated by adding the new random parameters to the previouse recourse model\n",
    "(MOD2) as follows:\n",
    "<center>$\n",
    "\\min_{x\\geq0}{\\underbrace{\\left\\{\\sum_{i=1}^nc_ix_i+\\underbrace{\\mathbb{E}_{\\xi}\\left[\\min_{y\\geq0}\\left\\{\\sum_{i=1}^n \\sum_{j=1}^kq_i\\tau_jy_{ij}\\right\\}\\right]}_{\\text{second stage}}\\right\\}}_{\\text{first stage}}}$</center><br>\n",
    "<ul><ul><ul><ul><em>subject to:</em><br></ul></ul></ul></ul>\n",
    "</center>\n",
    " <center>\n",
    "$\n",
    "\\begin{align}\n",
    "\\text{first stage constraints:}&\\\\\n",
    "&\\sum_{i=1}^nc_ix_i\\leq c_{max}\\\\\n",
    "\\text{second stage constraints:}&\\\\\n",
    "&\\sum_{j=1}^ky_{ij}\\leq \\alpha_ix_i&&\\quad \\quad i=\\{1,\\cdots,n\\}\\\\\n",
    "&\\sum_{i=1}^ny_{ij}\\geq \\xi_j&&\\quad \\quad j=\\{1,\\cdots,k\\}\n",
    "\\end{align}\n",
    "$\n",
    "</center><br>"
   ]
  },
  {
   "cell_type": "markdown",
   "id": "e1810275",
   "metadata": {},
   "source": [
    "<span style=\"color:red;font-weight:400;font-size:20px\">\n",
    "Sampling and scenario generations from continous and discrete distributions<br>\n",
    "</span>"
   ]
  },
  {
   "cell_type": "code",
   "execution_count": null,
   "id": "9e7f7c09",
   "metadata": {
    "pycharm": {
     "is_executing": true
    }
   },
   "outputs": [],
   "source": [
    "scenarios_q3, scenarios_q3_prob = generate_scenario_qc(number_of_samples, plot=False, seed=1245) \n",
    "#Fix seed at 1225 for reproducibility"
   ]
  },
  {
   "cell_type": "markdown",
   "id": "3df8b7ad",
   "metadata": {},
   "source": [
    "<span style=\"color:red;font-weight:400;font-size:20px\">\n",
    "Calculation of EV and $\\bar{x}$ for Q(c)\n",
    "</span>\n"
   ]
  },
  {
   "cell_type": "code",
   "execution_count": null,
   "id": "2a7df332",
   "metadata": {
    "pycharm": {
     "is_executing": true
    }
   },
   "outputs": [],
   "source": [
    "mean_values_qc = [6, 1,\n",
    "                  scenarios_q3['alpha_1'].mean(), scenarios_q3['alpha_2'].mean(),\n",
    "                  scenarios_q3['alpha_3'].mean(), scenarios_q3['alpha_4'].mean(),\n",
    "                  scenarios_q3['xi_1'].mean(), scenarios_q3['xi_2'].mean(),\n",
    "                  scenarios_q3['xi_3'].mean()]\n",
    "expected_value_model_qc = create_model_qc(random_parameters=mean_values_qc) # By default all random parameters are set to 1\n",
    "SolverFactory('gurobi').solve(expected_value_model_qc)\n",
    "print_res(expected_value_model_qc, question='qb')\n",
    "xbar_qc = [expected_value_model_qc.x[n].value for n in expected_value_model_qc.n]"
   ]
  },
  {
   "cell_type": "code",
   "execution_count": null,
   "outputs": [],
   "source": [
    "mean_values_qc"
   ],
   "metadata": {
    "collapsed": false,
    "pycharm": {
     "name": "#%%\n",
     "is_executing": true
    }
   }
  },
  {
   "cell_type": "markdown",
   "id": "743ff50c",
   "metadata": {},
   "source": [
    "<span style=\"color:red;font-weight:400;font-size:20px\">\n",
    "Solving two stage (TS) recourse model for Q(c) using L-shaped method\n",
    "</span>"
   ]
  },
  {
   "cell_type": "code",
   "execution_count": null,
   "id": "23828360",
   "metadata": {
    "pycharm": {
     "is_executing": true
    }
   },
   "outputs": [],
   "source": [
    "options_qc_LS = {\"root_solver\": \"gurobi\",\n",
    "                 \"sp_solver\": \"gurobi\",\n",
    "                 \"sp_solver_options\" : {\"threads\" : 1},\n",
    "                 \"valid_eta_lb\": {name: -432000 for name in list(scenarios_q3.index)},\n",
    "                 \"max_iter\": 15}\n",
    "ls_qc = LShapedMethod(options_qc_LS, \n",
    "                   list(scenarios_q3.index), \n",
    "                   scenario_creator_qc, \n",
    "                   scenario_creator_kwargs = {'S':scenarios_q3, 'prob_df':scenarios_q3_prob})\n",
    "result = ls_qc.lshaped_algorithm()\n",
    "print_res_ts(ls_qc.root)\n"
   ]
  },
  {
   "cell_type": "markdown",
   "id": "37e1f151",
   "metadata": {},
   "source": [
    "<span style=\"color:red;font-weight:400;font-size:20px\">\n",
    "Calculation of Wait and See solution\n",
    "</span>"
   ]
  },
  {
   "cell_type": "code",
   "execution_count": null,
   "id": "9ef24727",
   "metadata": {
    "pycharm": {
     "name": "#%%\n",
     "is_executing": true
    }
   },
   "outputs": [],
   "source": [
    "solve_ws_qc(all_scenarios=scenarios_q3, create_model=create_model_qc)"
   ]
  },
  {
   "cell_type": "markdown",
   "source": [
    "<span style=\"color:red;font-weight:400;font-size:20px\">\n",
    "Calculation of EEV for Q (c)\n",
    "</span>"
   ],
   "metadata": {
    "collapsed": false,
    "pycharm": {
     "name": "#%% md\n"
    }
   }
  },
  {
   "cell_type": "code",
   "execution_count": null,
   "outputs": [],
   "source": [
    "EEV_l_qc = []  # Making a empty list\n",
    "ind_qc = []\n",
    "for s in tqdm(scenarios_q3.iterrows()):\n",
    "    model_eev_qc = create_eev_model_qc(x_bar=xbar_qc,\n",
    "                                       random_parameters=\n",
    "                                       [s[1][0], s[1][1], s[1][2], s[1][3], s[1][4], s[1][5], s[1][6], s[1][7], s[1][8]])\n",
    "    SolverFactory('gurobi').solve(model_eev_qc)\n",
    "    try:\n",
    "        sys.stdout = open(os.devnull, 'w')\n",
    "        EEV_l_qc.append(sum(np.array([10, 7 , 16, 6, 0])*np.array(xbar_qc))+ value(model_eev_qc.obj))\n",
    "        ind_qc.append(s[0])\n",
    "    except:\n",
    "        pass\n",
    "sys.stdout = old_stdout\n",
    "EEV_df_qc = pd.DataFrame(index=ind_qc\n",
    "                         , data={'EEV_l_qa':EEV_l_qc})\n",
    "print(tabulate(EEV_df_qc, headers=['Scenarios', 'EEV_l_qc'], tablefmt='psql'))\n",
    "print('EEV = %.2f'%np.mean(EEV_l_qc))"
   ],
   "metadata": {
    "collapsed": false,
    "pycharm": {
     "name": "#%%\n",
     "is_executing": true
    }
   }
  },
  {
   "cell_type": "code",
   "execution_count": null,
   "outputs": [],
   "source": [
    "len(EEV_df)"
   ],
   "metadata": {
    "collapsed": false,
    "pycharm": {
     "name": "#%%\n",
     "is_executing": true
    }
   }
  }
 ],
 "metadata": {
  "kernelspec": {
   "display_name": "Python 3 (ipykernel)",
   "language": "python",
   "name": "python3"
  },
  "language_info": {
   "codemirror_mode": {
    "name": "ipython",
    "version": 3
   },
   "file_extension": ".py",
   "mimetype": "text/x-python",
   "name": "python",
   "nbconvert_exporter": "python",
   "pygments_lexer": "ipython3",
   "version": "3.8.12"
  }
 },
 "nbformat": 4,
 "nbformat_minor": 5
}